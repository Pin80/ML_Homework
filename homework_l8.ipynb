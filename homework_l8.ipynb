{
 "cells": [
  {
   "cell_type": "markdown",
   "metadata": {},
   "source": [
    "Домашнее задание по теме \"Оценка точности модели, переобучение, регуляризация\"\n",
    "Преподаватель: Алексей Кузьмин\n",
    "Дана статистика пользователей adult.csv.\n",
    "Получите значения AUC для различных моделей и их параметров.\n",
    "Решением будет ссылка на гитхаб с ноутбуком."
   ]
  },
  {
   "cell_type": "code",
   "execution_count": 38,
   "metadata": {},
   "outputs": [],
   "source": [
    "import numpy as np\n",
    "import pandas as pd\n",
    "from sklearn.preprocessing import LabelEncoder\n",
    "from sklearn.preprocessing import StandardScaler\n",
    "from sklearn.model_selection import train_test_split\n",
    "from sklearn.linear_model import LogisticRegression\n",
    "from sklearn.ensemble import RandomForestClassifier\n",
    "from sklearn.neighbors import KNeighborsClassifier\n",
    "from matplotlib import pyplot as plt\n",
    "# метод для построения графика precision-recall\n",
    "from sklearn.metrics import precision_recall_curve\n",
    "# посчитаем ROC-кривую (Receiver Operating Characteristic)\n",
    "from sklearn.metrics import roc_curve\n",
    "from sklearn.metrics import average_precision_score\n",
    "from sklearn.metrics import roc_auc_score\n",
    "from sklearn.metrics import auc\n",
    "from sklearn.model_selection import GridSearchCV"
   ]
  },
  {
   "cell_type": "code",
   "execution_count": 39,
   "metadata": {},
   "outputs": [
    {
     "name": "stdout",
     "output_type": "stream",
     "text": [
      "   age  workclass  fnlwgt     education  educational-num      marital-status  \\\n",
      "0   25    Private  226802          11th                7       Never-married   \n",
      "1   38    Private   89814       HS-grad                9  Married-civ-spouse   \n",
      "2   28  Local-gov  336951    Assoc-acdm               12  Married-civ-spouse   \n",
      "3   44    Private  160323  Some-college               10  Married-civ-spouse   \n",
      "4   18          ?  103497  Some-college               10       Never-married   \n",
      "\n",
      "          occupation relationship   race  gender  capital-gain  capital-loss  \\\n",
      "0  Machine-op-inspct    Own-child  Black    Male             0             0   \n",
      "1    Farming-fishing      Husband  White    Male             0             0   \n",
      "2    Protective-serv      Husband  White    Male             0             0   \n",
      "3  Machine-op-inspct      Husband  Black    Male          7688             0   \n",
      "4                  ?    Own-child  White  Female             0             0   \n",
      "\n",
      "   hours-per-week native-country income  \n",
      "0              40  United-States  <=50K  \n",
      "1              50  United-States  <=50K  \n",
      "2              40  United-States   >50K  \n",
      "3              40  United-States   >50K  \n",
      "4              30  United-States  <=50K  \n",
      "<class 'pandas.core.frame.DataFrame'>\n",
      "RangeIndex: 48842 entries, 0 to 48841\n",
      "Data columns (total 15 columns):\n",
      "age                48842 non-null int64\n",
      "workclass          48842 non-null object\n",
      "fnlwgt             48842 non-null int64\n",
      "education          48842 non-null object\n",
      "educational-num    48842 non-null int64\n",
      "marital-status     48842 non-null object\n",
      "occupation         48842 non-null object\n",
      "relationship       48842 non-null object\n",
      "race               48842 non-null object\n",
      "gender             48842 non-null object\n",
      "capital-gain       48842 non-null int64\n",
      "capital-loss       48842 non-null int64\n",
      "hours-per-week     48842 non-null int64\n",
      "native-country     48842 non-null object\n",
      "income             48842 non-null object\n",
      "dtypes: int64(6), object(9)\n",
      "memory usage: 5.6+ MB\n",
      "None\n"
     ]
    }
   ],
   "source": [
    "data = pd.read_csv( 'adult.csv' )\n",
    "print(data.head())\n",
    "print(data.info())"
   ]
  },
  {
   "cell_type": "code",
   "execution_count": 40,
   "metadata": {},
   "outputs": [
    {
     "name": "stderr",
     "output_type": "stream",
     "text": [
      "/home/user/anaconda3/lib/python3.7/site-packages/ipykernel_launcher.py:12: SettingWithCopyWarning: \n",
      "A value is trying to be set on a copy of a slice from a DataFrame.\n",
      "Try using .loc[row_indexer,col_indexer] = value instead\n",
      "\n",
      "See the caveats in the documentation: http://pandas.pydata.org/pandas-docs/stable/indexing.html#indexing-view-versus-copy\n",
      "  if sys.path[0] == '':\n",
      "/home/user/anaconda3/lib/python3.7/site-packages/sklearn/preprocessing/data.py:625: DataConversionWarning: Data with input dtype int64 were all converted to float64 by StandardScaler.\n",
      "  return self.partial_fit(X, y)\n",
      "/home/user/anaconda3/lib/python3.7/site-packages/sklearn/base.py:462: DataConversionWarning: Data with input dtype int64 were all converted to float64 by StandardScaler.\n",
      "  return self.fit(X, **fit_params).transform(X)\n"
     ]
    }
   ],
   "source": [
    "X = data[['age', 'workclass', 'educational-num', 'marital-status', 'occupation','race', 'gender', 'capital-gain', 'capital-loss', 'hours-per-week', 'native-country']]\n",
    "# Вариант для использования всех фичей\n",
    "#X = data[['age', 'workclass', 'education', 'educational-num', 'marital-status', 'occupation', 'relationship', 'race', 'gender', 'capital-gain', 'capital-loss', 'hours-per-week', 'native-country']]\n",
    "# Без фичи раса\n",
    "#X = data[['age', 'workclass', 'educational-num', 'marital-status', 'occupation','gender', 'capital-gain', 'capital-loss', 'hours-per-week', 'native-country']]\n",
    "# Ручная подстановка метки, как если бы небыло educational-num\n",
    "#cleanup_education = {\"education\": {\"Preschool\": 0, \"1st-4th\": 1, '5th-6th': 2, '7th-8th':3, '9th':4, '10th':5,'11th':6, '12th': 7, 'HS-grad':8, 'Prof-school': 9, 'Assoc-acdm': 10, 'Assoc-voc': 11, 'Some-college': 12, 'Bachelors':13, 'Masters': 14, 'Doctorate': 15}}\n",
    "#X.replace(cleanup_education, inplace = True)\n",
    "y = data['income'].astype('category')\n",
    "y = y.cat.codes\n",
    "lb_gender = LabelEncoder()\n",
    "X['gender'] = lb_gender.fit_transform(X['gender'])\n",
    "# Альтернативный способ преобразования \n",
    "#X['gender'] = X['gender'].astype('category')\n",
    "#X['gender'] = X['gender'].cat.codes\n",
    "X = pd.get_dummies(X, columns=['workclass', 'occupation', 'marital-status'])\n",
    "X['native-country'] = np.where(X['native-country'].str.contains(\"United-States\"), 1, 0)\n",
    "# Я не расист, но это 3я по важности фича\n",
    "X['race'] = np.where(X['race'].str.contains(\"White\"), 1, 0)\n",
    "sc1 = StandardScaler()\n",
    "X[['age', 'educational-num', 'capital-gain', 'capital-loss', 'hours-per-week']] = sc1.fit_transform(X[['age', 'educational-num', 'capital-gain', 'capital-loss', 'hours-per-week']])"
   ]
  },
  {
   "cell_type": "code",
   "execution_count": 41,
   "metadata": {},
   "outputs": [
    {
     "data": {
      "text/html": [
       "<div>\n",
       "<style scoped>\n",
       "    .dataframe tbody tr th:only-of-type {\n",
       "        vertical-align: middle;\n",
       "    }\n",
       "\n",
       "    .dataframe tbody tr th {\n",
       "        vertical-align: top;\n",
       "    }\n",
       "\n",
       "    .dataframe thead th {\n",
       "        text-align: right;\n",
       "    }\n",
       "</style>\n",
       "<table border=\"1\" class=\"dataframe\">\n",
       "  <thead>\n",
       "    <tr style=\"text-align: right;\">\n",
       "      <th></th>\n",
       "      <th>age</th>\n",
       "      <th>educational-num</th>\n",
       "      <th>race</th>\n",
       "      <th>gender</th>\n",
       "      <th>capital-gain</th>\n",
       "      <th>capital-loss</th>\n",
       "      <th>hours-per-week</th>\n",
       "      <th>native-country</th>\n",
       "      <th>workclass_?</th>\n",
       "      <th>workclass_Federal-gov</th>\n",
       "      <th>...</th>\n",
       "      <th>occupation_Sales</th>\n",
       "      <th>occupation_Tech-support</th>\n",
       "      <th>occupation_Transport-moving</th>\n",
       "      <th>marital-status_Divorced</th>\n",
       "      <th>marital-status_Married-AF-spouse</th>\n",
       "      <th>marital-status_Married-civ-spouse</th>\n",
       "      <th>marital-status_Married-spouse-absent</th>\n",
       "      <th>marital-status_Never-married</th>\n",
       "      <th>marital-status_Separated</th>\n",
       "      <th>marital-status_Widowed</th>\n",
       "    </tr>\n",
       "  </thead>\n",
       "  <tbody>\n",
       "    <tr>\n",
       "      <th>0</th>\n",
       "      <td>-0.995129</td>\n",
       "      <td>-1.197259</td>\n",
       "      <td>0</td>\n",
       "      <td>1</td>\n",
       "      <td>-0.144804</td>\n",
       "      <td>-0.217127</td>\n",
       "      <td>-0.034087</td>\n",
       "      <td>1</td>\n",
       "      <td>0</td>\n",
       "      <td>0</td>\n",
       "      <td>...</td>\n",
       "      <td>0</td>\n",
       "      <td>0</td>\n",
       "      <td>0</td>\n",
       "      <td>0</td>\n",
       "      <td>0</td>\n",
       "      <td>0</td>\n",
       "      <td>0</td>\n",
       "      <td>1</td>\n",
       "      <td>0</td>\n",
       "      <td>0</td>\n",
       "    </tr>\n",
       "    <tr>\n",
       "      <th>1</th>\n",
       "      <td>-0.046942</td>\n",
       "      <td>-0.419335</td>\n",
       "      <td>1</td>\n",
       "      <td>1</td>\n",
       "      <td>-0.144804</td>\n",
       "      <td>-0.217127</td>\n",
       "      <td>0.772930</td>\n",
       "      <td>1</td>\n",
       "      <td>0</td>\n",
       "      <td>0</td>\n",
       "      <td>...</td>\n",
       "      <td>0</td>\n",
       "      <td>0</td>\n",
       "      <td>0</td>\n",
       "      <td>0</td>\n",
       "      <td>0</td>\n",
       "      <td>1</td>\n",
       "      <td>0</td>\n",
       "      <td>0</td>\n",
       "      <td>0</td>\n",
       "      <td>0</td>\n",
       "    </tr>\n",
       "    <tr>\n",
       "      <th>2</th>\n",
       "      <td>-0.776316</td>\n",
       "      <td>0.747550</td>\n",
       "      <td>1</td>\n",
       "      <td>1</td>\n",
       "      <td>-0.144804</td>\n",
       "      <td>-0.217127</td>\n",
       "      <td>-0.034087</td>\n",
       "      <td>1</td>\n",
       "      <td>0</td>\n",
       "      <td>0</td>\n",
       "      <td>...</td>\n",
       "      <td>0</td>\n",
       "      <td>0</td>\n",
       "      <td>0</td>\n",
       "      <td>0</td>\n",
       "      <td>0</td>\n",
       "      <td>1</td>\n",
       "      <td>0</td>\n",
       "      <td>0</td>\n",
       "      <td>0</td>\n",
       "      <td>0</td>\n",
       "    </tr>\n",
       "    <tr>\n",
       "      <th>3</th>\n",
       "      <td>0.390683</td>\n",
       "      <td>-0.030373</td>\n",
       "      <td>0</td>\n",
       "      <td>1</td>\n",
       "      <td>0.886874</td>\n",
       "      <td>-0.217127</td>\n",
       "      <td>-0.034087</td>\n",
       "      <td>1</td>\n",
       "      <td>0</td>\n",
       "      <td>0</td>\n",
       "      <td>...</td>\n",
       "      <td>0</td>\n",
       "      <td>0</td>\n",
       "      <td>0</td>\n",
       "      <td>0</td>\n",
       "      <td>0</td>\n",
       "      <td>1</td>\n",
       "      <td>0</td>\n",
       "      <td>0</td>\n",
       "      <td>0</td>\n",
       "      <td>0</td>\n",
       "    </tr>\n",
       "    <tr>\n",
       "      <th>4</th>\n",
       "      <td>-1.505691</td>\n",
       "      <td>-0.030373</td>\n",
       "      <td>1</td>\n",
       "      <td>0</td>\n",
       "      <td>-0.144804</td>\n",
       "      <td>-0.217127</td>\n",
       "      <td>-0.841104</td>\n",
       "      <td>1</td>\n",
       "      <td>1</td>\n",
       "      <td>0</td>\n",
       "      <td>...</td>\n",
       "      <td>0</td>\n",
       "      <td>0</td>\n",
       "      <td>0</td>\n",
       "      <td>0</td>\n",
       "      <td>0</td>\n",
       "      <td>0</td>\n",
       "      <td>0</td>\n",
       "      <td>1</td>\n",
       "      <td>0</td>\n",
       "      <td>0</td>\n",
       "    </tr>\n",
       "    <tr>\n",
       "      <th>5</th>\n",
       "      <td>-0.338691</td>\n",
       "      <td>-1.586221</td>\n",
       "      <td>1</td>\n",
       "      <td>1</td>\n",
       "      <td>-0.144804</td>\n",
       "      <td>-0.217127</td>\n",
       "      <td>-0.841104</td>\n",
       "      <td>1</td>\n",
       "      <td>0</td>\n",
       "      <td>0</td>\n",
       "      <td>...</td>\n",
       "      <td>0</td>\n",
       "      <td>0</td>\n",
       "      <td>0</td>\n",
       "      <td>0</td>\n",
       "      <td>0</td>\n",
       "      <td>0</td>\n",
       "      <td>0</td>\n",
       "      <td>1</td>\n",
       "      <td>0</td>\n",
       "      <td>0</td>\n",
       "    </tr>\n",
       "    <tr>\n",
       "      <th>6</th>\n",
       "      <td>-0.703379</td>\n",
       "      <td>-0.419335</td>\n",
       "      <td>0</td>\n",
       "      <td>1</td>\n",
       "      <td>-0.144804</td>\n",
       "      <td>-0.217127</td>\n",
       "      <td>-0.034087</td>\n",
       "      <td>1</td>\n",
       "      <td>1</td>\n",
       "      <td>0</td>\n",
       "      <td>...</td>\n",
       "      <td>0</td>\n",
       "      <td>0</td>\n",
       "      <td>0</td>\n",
       "      <td>0</td>\n",
       "      <td>0</td>\n",
       "      <td>0</td>\n",
       "      <td>0</td>\n",
       "      <td>1</td>\n",
       "      <td>0</td>\n",
       "      <td>0</td>\n",
       "    </tr>\n",
       "    <tr>\n",
       "      <th>7</th>\n",
       "      <td>1.776496</td>\n",
       "      <td>1.914436</td>\n",
       "      <td>1</td>\n",
       "      <td>1</td>\n",
       "      <td>0.271598</td>\n",
       "      <td>-0.217127</td>\n",
       "      <td>-0.679700</td>\n",
       "      <td>1</td>\n",
       "      <td>0</td>\n",
       "      <td>0</td>\n",
       "      <td>...</td>\n",
       "      <td>0</td>\n",
       "      <td>0</td>\n",
       "      <td>0</td>\n",
       "      <td>0</td>\n",
       "      <td>0</td>\n",
       "      <td>1</td>\n",
       "      <td>0</td>\n",
       "      <td>0</td>\n",
       "      <td>0</td>\n",
       "      <td>0</td>\n",
       "    </tr>\n",
       "    <tr>\n",
       "      <th>8</th>\n",
       "      <td>-1.068066</td>\n",
       "      <td>-0.030373</td>\n",
       "      <td>1</td>\n",
       "      <td>0</td>\n",
       "      <td>-0.144804</td>\n",
       "      <td>-0.217127</td>\n",
       "      <td>-0.034087</td>\n",
       "      <td>1</td>\n",
       "      <td>0</td>\n",
       "      <td>0</td>\n",
       "      <td>...</td>\n",
       "      <td>0</td>\n",
       "      <td>0</td>\n",
       "      <td>0</td>\n",
       "      <td>0</td>\n",
       "      <td>0</td>\n",
       "      <td>0</td>\n",
       "      <td>0</td>\n",
       "      <td>1</td>\n",
       "      <td>0</td>\n",
       "      <td>0</td>\n",
       "    </tr>\n",
       "    <tr>\n",
       "      <th>9</th>\n",
       "      <td>1.192996</td>\n",
       "      <td>-2.364144</td>\n",
       "      <td>1</td>\n",
       "      <td>1</td>\n",
       "      <td>-0.144804</td>\n",
       "      <td>-0.217127</td>\n",
       "      <td>-2.455137</td>\n",
       "      <td>1</td>\n",
       "      <td>0</td>\n",
       "      <td>0</td>\n",
       "      <td>...</td>\n",
       "      <td>0</td>\n",
       "      <td>0</td>\n",
       "      <td>0</td>\n",
       "      <td>0</td>\n",
       "      <td>0</td>\n",
       "      <td>1</td>\n",
       "      <td>0</td>\n",
       "      <td>0</td>\n",
       "      <td>0</td>\n",
       "      <td>0</td>\n",
       "    </tr>\n",
       "  </tbody>\n",
       "</table>\n",
       "<p>10 rows × 39 columns</p>\n",
       "</div>"
      ],
      "text/plain": [
       "        age  educational-num  race  gender  capital-gain  capital-loss  \\\n",
       "0 -0.995129        -1.197259     0       1     -0.144804     -0.217127   \n",
       "1 -0.046942        -0.419335     1       1     -0.144804     -0.217127   \n",
       "2 -0.776316         0.747550     1       1     -0.144804     -0.217127   \n",
       "3  0.390683        -0.030373     0       1      0.886874     -0.217127   \n",
       "4 -1.505691        -0.030373     1       0     -0.144804     -0.217127   \n",
       "5 -0.338691        -1.586221     1       1     -0.144804     -0.217127   \n",
       "6 -0.703379        -0.419335     0       1     -0.144804     -0.217127   \n",
       "7  1.776496         1.914436     1       1      0.271598     -0.217127   \n",
       "8 -1.068066        -0.030373     1       0     -0.144804     -0.217127   \n",
       "9  1.192996        -2.364144     1       1     -0.144804     -0.217127   \n",
       "\n",
       "   hours-per-week  native-country  workclass_?  workclass_Federal-gov  \\\n",
       "0       -0.034087               1            0                      0   \n",
       "1        0.772930               1            0                      0   \n",
       "2       -0.034087               1            0                      0   \n",
       "3       -0.034087               1            0                      0   \n",
       "4       -0.841104               1            1                      0   \n",
       "5       -0.841104               1            0                      0   \n",
       "6       -0.034087               1            1                      0   \n",
       "7       -0.679700               1            0                      0   \n",
       "8       -0.034087               1            0                      0   \n",
       "9       -2.455137               1            0                      0   \n",
       "\n",
       "            ...            occupation_Sales  occupation_Tech-support  \\\n",
       "0           ...                           0                        0   \n",
       "1           ...                           0                        0   \n",
       "2           ...                           0                        0   \n",
       "3           ...                           0                        0   \n",
       "4           ...                           0                        0   \n",
       "5           ...                           0                        0   \n",
       "6           ...                           0                        0   \n",
       "7           ...                           0                        0   \n",
       "8           ...                           0                        0   \n",
       "9           ...                           0                        0   \n",
       "\n",
       "   occupation_Transport-moving  marital-status_Divorced  \\\n",
       "0                            0                        0   \n",
       "1                            0                        0   \n",
       "2                            0                        0   \n",
       "3                            0                        0   \n",
       "4                            0                        0   \n",
       "5                            0                        0   \n",
       "6                            0                        0   \n",
       "7                            0                        0   \n",
       "8                            0                        0   \n",
       "9                            0                        0   \n",
       "\n",
       "   marital-status_Married-AF-spouse  marital-status_Married-civ-spouse  \\\n",
       "0                                 0                                  0   \n",
       "1                                 0                                  1   \n",
       "2                                 0                                  1   \n",
       "3                                 0                                  1   \n",
       "4                                 0                                  0   \n",
       "5                                 0                                  0   \n",
       "6                                 0                                  0   \n",
       "7                                 0                                  1   \n",
       "8                                 0                                  0   \n",
       "9                                 0                                  1   \n",
       "\n",
       "   marital-status_Married-spouse-absent  marital-status_Never-married  \\\n",
       "0                                     0                             1   \n",
       "1                                     0                             0   \n",
       "2                                     0                             0   \n",
       "3                                     0                             0   \n",
       "4                                     0                             1   \n",
       "5                                     0                             1   \n",
       "6                                     0                             1   \n",
       "7                                     0                             0   \n",
       "8                                     0                             1   \n",
       "9                                     0                             0   \n",
       "\n",
       "   marital-status_Separated  marital-status_Widowed  \n",
       "0                         0                       0  \n",
       "1                         0                       0  \n",
       "2                         0                       0  \n",
       "3                         0                       0  \n",
       "4                         0                       0  \n",
       "5                         0                       0  \n",
       "6                         0                       0  \n",
       "7                         0                       0  \n",
       "8                         0                       0  \n",
       "9                         0                       0  \n",
       "\n",
       "[10 rows x 39 columns]"
      ]
     },
     "execution_count": 41,
     "metadata": {},
     "output_type": "execute_result"
    }
   ],
   "source": [
    "X.head(10)"
   ]
  },
  {
   "cell_type": "code",
   "execution_count": 42,
   "metadata": {},
   "outputs": [
    {
     "data": {
      "text/plain": [
       "0    0\n",
       "1    0\n",
       "2    1\n",
       "3    1\n",
       "4    0\n",
       "dtype: int8"
      ]
     },
     "execution_count": 42,
     "metadata": {},
     "output_type": "execute_result"
    }
   ],
   "source": [
    "y.dtypes\n",
    "y.head()"
   ]
  },
  {
   "cell_type": "code",
   "execution_count": 43,
   "metadata": {},
   "outputs": [],
   "source": [
    "X_train, X_test, y_train, Y_test = train_test_split(X, y, test_size=0.33, random_state=42)"
   ]
  },
  {
   "cell_type": "code",
   "execution_count": 44,
   "metadata": {},
   "outputs": [
    {
     "name": "stderr",
     "output_type": "stream",
     "text": [
      "/home/user/anaconda3/lib/python3.7/site-packages/sklearn/linear_model/logistic.py:433: FutureWarning: Default solver will be changed to 'lbfgs' in 0.22. Specify a solver to silence this warning.\n",
      "  FutureWarning)\n"
     ]
    }
   ],
   "source": [
    "parameters = {'max_depth':[1, 10], 'n_estimators':[3, 50]}\n",
    "lg = LogisticRegression()\n",
    "rf = GridSearchCV(RandomForestClassifier(max_depth=7, random_state=31,  n_estimators=30), \\\n",
    "                parameters, cv=5)\n",
    "rf2 = RandomForestClassifier(max_depth=3, random_state=31,  n_estimators=5)\n",
    "knn = KNeighborsClassifier(n_neighbors=5)\n",
    "knn2 = KNeighborsClassifier(n_neighbors=15)\n",
    "lg.fit(X_train, y_train)\n",
    "rf.fit(X_train, y_train)\n",
    "knn.fit(X_train, y_train)\n",
    "rf2.fit(X_train, y_train)\n",
    "knn2.fit(X_train, y_train)\n",
    "model = [lg, rf, knn, rf2, knn2]\n",
    "model_name = ['lg', 'rf', 'knn', 'rf2', 'knn2']"
   ]
  },
  {
   "cell_type": "code",
   "execution_count": 45,
   "metadata": {},
   "outputs": [
    {
     "name": "stdout",
     "output_type": "stream",
     "text": [
      "0.8555031641642884\n",
      "0.8656781238367043\n",
      "0.8403027670926914\n",
      "0.8275220250651446\n",
      "0.8510361086983497\n"
     ]
    }
   ],
   "source": [
    "for i in range(len(model)):\n",
    "    print(model[i].score(X_test, Y_test)) #0.8555031641642884"
   ]
  },
  {
   "cell_type": "code",
   "execution_count": 46,
   "metadata": {},
   "outputs": [],
   "source": [
    "predictions = []\n",
    "for i in range(len(model)):\n",
    "    predictions.append(model[i].predict_proba(X_test))"
   ]
  },
  {
   "cell_type": "code",
   "execution_count": 47,
   "metadata": {},
   "outputs": [],
   "source": [
    "pr = [] \n",
    "re1 = []\n",
    "thres = []\n",
    "for i in range(len(model)):\n",
    "    pri, re1i, thresi = precision_recall_curve( Y_test, predictions[i][:, 1] )\n",
    "    pr.append(pri)\n",
    "    re1.append(re1i)\n",
    "    thres.append(thresi)"
   ]
  },
  {
   "cell_type": "code",
   "execution_count": 48,
   "metadata": {},
   "outputs": [
    {
     "data": {
      "image/png": "[encoded data removed]",
      "text/plain": [
       "<Figure size 432x288 with 1 Axes>"
      ]
     },
     "metadata": {
      "needs_background": "light"
     },
     "output_type": "display_data"
    }
   ],
   "source": [
    "plt.title(\"Precision Recall Curve\")\n",
    "for i in range(len(model)):\n",
    "    plt.plot( re1[i], pr[i], label=model_name[i] )\n",
    "plt.legend(loc='lower left', shadow=True, fontsize='medium')\n",
    "plt.show()"
   ]
  },
  {
   "cell_type": "code",
   "execution_count": 49,
   "metadata": {},
   "outputs": [
    {
     "name": "stdout",
     "output_type": "stream",
     "text": [
      "lg   0.7692381173063932\n",
      "rf   0.80745308449703\n",
      "knn   0.6619280570731823\n",
      "rf2   0.7177267337277405\n",
      "knn2   0.7363263802826836\n"
     ]
    }
   ],
   "source": [
    "# площадь под кривой\n",
    "for i in range(len(model)):\n",
    "    print(model_name[i],\" \",average_precision_score( Y_test, predictions[i][:, 1] ))"
   ]
  },
  {
   "cell_type": "code",
   "execution_count": 50,
   "metadata": {},
   "outputs": [],
   "source": [
    "# получаем значения false и true positive rate для различных значений порога\n",
    "fpr = []\n",
    "tpr = []\n",
    "thres = []\n",
    "for i in range(len(model)):\n",
    "    fpri, tpri, thresi = roc_curve( Y_test, predictions[i][:, 1] )\n",
    "    fpr.append(fpri)\n",
    "    tpr.append(tpri)\n",
    "    thres.append(thresi)"
   ]
  },
  {
   "cell_type": "code",
   "execution_count": 51,
   "metadata": {},
   "outputs": [
    {
     "data": {
      "image/png": "[encoded data removed]",
      "text/plain": [
       "<Figure size 432x288 with 1 Axes>"
      ]
     },
     "metadata": {
      "needs_background": "light"
     },
     "output_type": "display_data"
    }
   ],
   "source": [
    "plt.title(\"ROC\")\n",
    "for i in range(len(model)):\n",
    "    plt.plot( fpr[i], tpr[i], label=model_name[i] )\n",
    "plt.legend(loc='lower right', shadow=True, fontsize='medium')\n",
    "plt.show()"
   ]
  },
  {
   "cell_type": "code",
   "execution_count": 52,
   "metadata": {},
   "outputs": [
    {
     "name": "stdout",
     "output_type": "stream",
     "text": [
      "lg   0.9080586805904962\n",
      "rf   0.9192206491549293\n",
      "knn   0.8657299306923639\n",
      "rf2   0.8823139528109426\n",
      "knn2   0.897716918020105\n"
     ]
    }
   ],
   "source": [
    "for i in range(len(model)):\n",
    "    print(model_name[i],\" \",roc_auc_score( Y_test, predictions[i][:, 1] ))"
   ]
  },
  {
   "cell_type": "code",
   "execution_count": 53,
   "metadata": {},
   "outputs": [
    {
     "name": "stdout",
     "output_type": "stream",
     "text": [
      "lg   0.9080586805904962\n",
      "rf   0.9192206491549293\n",
      "knn   0.8657299306923639\n",
      "rf2   0.8823139528109426\n",
      "knn2   0.897716918020105\n"
     ]
    }
   ],
   "source": [
    "for i in range(len(model)):\n",
    "    print(model_name[i],\" \",auc( fpr[i], tpr[i] ))"
   ]
  }
 ],
 "metadata": {
  "kernelspec": {
   "display_name": "Python 3",
   "language": "python",
   "name": "python3"
  },
  "language_info": {
   "codemirror_mode": {
    "name": "ipython",
    "version": 3
   },
   "file_extension": ".py",
   "mimetype": "text/x-python",
   "name": "python",
   "nbconvert_exporter": "python",
   "pygments_lexer": "ipython3",
   "version": "3.7.4"
  }
 },
 "nbformat": 4,
 "nbformat_minor": 2
}
